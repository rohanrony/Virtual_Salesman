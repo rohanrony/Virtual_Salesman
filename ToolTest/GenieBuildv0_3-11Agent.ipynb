{
 "cells": [
  {
   "cell_type": "markdown",
   "metadata": {},
   "source": [
    "This uses Twillio, 11Labs T2S and S2T, 11Labs Agent"
   ]
  },
  {
   "cell_type": "code",
   "execution_count": 10,
   "metadata": {},
   "outputs": [
    {
     "name": "stderr",
     "output_type": "stream",
     "text": [
      "python(25151) MallocStackLogging: can't turn off malloc stack logging because it was not enabled.\n"
     ]
    },
    {
     "name": "stdout",
     "output_type": "stream",
     "text": [
      "Requirement already satisfied: Flask in /opt/homebrew/Caskroom/miniforge/base/envs/genai_2025mar/lib/python3.9/site-packages (3.1.0)\n",
      "Requirement already satisfied: twilio in /opt/homebrew/Caskroom/miniforge/base/envs/genai_2025mar/lib/python3.9/site-packages (9.5.1)\n",
      "Requirement already satisfied: requests in /opt/homebrew/Caskroom/miniforge/base/envs/genai_2025mar/lib/python3.9/site-packages (2.32.3)\n",
      "Requirement already satisfied: python-dotenv in /opt/homebrew/Caskroom/miniforge/base/envs/genai_2025mar/lib/python3.9/site-packages (1.1.0)\n",
      "Collecting ngrok\n",
      "  Downloading ngrok-1.4.0-cp37-abi3-macosx_11_0_arm64.whl.metadata (19 kB)\n",
      "Requirement already satisfied: Werkzeug>=3.1 in /opt/homebrew/Caskroom/miniforge/base/envs/genai_2025mar/lib/python3.9/site-packages (from Flask) (3.1.3)\n",
      "Requirement already satisfied: Jinja2>=3.1.2 in /opt/homebrew/Caskroom/miniforge/base/envs/genai_2025mar/lib/python3.9/site-packages (from Flask) (3.1.6)\n",
      "Requirement already satisfied: itsdangerous>=2.2 in /opt/homebrew/Caskroom/miniforge/base/envs/genai_2025mar/lib/python3.9/site-packages (from Flask) (2.2.0)\n",
      "Requirement already satisfied: click>=8.1.3 in /opt/homebrew/Caskroom/miniforge/base/envs/genai_2025mar/lib/python3.9/site-packages (from Flask) (8.1.8)\n",
      "Requirement already satisfied: blinker>=1.9 in /opt/homebrew/Caskroom/miniforge/base/envs/genai_2025mar/lib/python3.9/site-packages (from Flask) (1.9.0)\n",
      "Requirement already satisfied: importlib-metadata>=3.6 in /opt/homebrew/Caskroom/miniforge/base/envs/genai_2025mar/lib/python3.9/site-packages (from Flask) (8.6.1)\n",
      "Requirement already satisfied: PyJWT<3.0.0,>=2.0.0 in /opt/homebrew/Caskroom/miniforge/base/envs/genai_2025mar/lib/python3.9/site-packages (from twilio) (2.10.1)\n",
      "Requirement already satisfied: aiohttp>=3.8.4 in /opt/homebrew/Caskroom/miniforge/base/envs/genai_2025mar/lib/python3.9/site-packages (from twilio) (3.11.14)\n",
      "Requirement already satisfied: aiohttp-retry>=2.8.3 in /opt/homebrew/Caskroom/miniforge/base/envs/genai_2025mar/lib/python3.9/site-packages (from twilio) (2.9.1)\n",
      "Requirement already satisfied: charset_normalizer<4,>=2 in /opt/homebrew/Caskroom/miniforge/base/envs/genai_2025mar/lib/python3.9/site-packages (from requests) (3.4.1)\n",
      "Requirement already satisfied: idna<4,>=2.5 in /opt/homebrew/Caskroom/miniforge/base/envs/genai_2025mar/lib/python3.9/site-packages (from requests) (3.10)\n",
      "Requirement already satisfied: urllib3<3,>=1.21.1 in /opt/homebrew/Caskroom/miniforge/base/envs/genai_2025mar/lib/python3.9/site-packages (from requests) (2.3.0)\n",
      "Requirement already satisfied: certifi>=2017.4.17 in /opt/homebrew/Caskroom/miniforge/base/envs/genai_2025mar/lib/python3.9/site-packages (from requests) (2025.1.31)\n",
      "Requirement already satisfied: aiohappyeyeballs>=2.3.0 in /opt/homebrew/Caskroom/miniforge/base/envs/genai_2025mar/lib/python3.9/site-packages (from aiohttp>=3.8.4->twilio) (2.6.1)\n",
      "Requirement already satisfied: aiosignal>=1.1.2 in /opt/homebrew/Caskroom/miniforge/base/envs/genai_2025mar/lib/python3.9/site-packages (from aiohttp>=3.8.4->twilio) (1.3.2)\n",
      "Requirement already satisfied: async-timeout<6.0,>=4.0 in /opt/homebrew/Caskroom/miniforge/base/envs/genai_2025mar/lib/python3.9/site-packages (from aiohttp>=3.8.4->twilio) (5.0.1)\n",
      "Requirement already satisfied: attrs>=17.3.0 in /opt/homebrew/Caskroom/miniforge/base/envs/genai_2025mar/lib/python3.9/site-packages (from aiohttp>=3.8.4->twilio) (25.3.0)\n",
      "Requirement already satisfied: frozenlist>=1.1.1 in /opt/homebrew/Caskroom/miniforge/base/envs/genai_2025mar/lib/python3.9/site-packages (from aiohttp>=3.8.4->twilio) (1.5.0)\n",
      "Requirement already satisfied: multidict<7.0,>=4.5 in /opt/homebrew/Caskroom/miniforge/base/envs/genai_2025mar/lib/python3.9/site-packages (from aiohttp>=3.8.4->twilio) (6.2.0)\n",
      "Requirement already satisfied: propcache>=0.2.0 in /opt/homebrew/Caskroom/miniforge/base/envs/genai_2025mar/lib/python3.9/site-packages (from aiohttp>=3.8.4->twilio) (0.3.1)\n",
      "Requirement already satisfied: yarl<2.0,>=1.17.0 in /opt/homebrew/Caskroom/miniforge/base/envs/genai_2025mar/lib/python3.9/site-packages (from aiohttp>=3.8.4->twilio) (1.18.3)\n",
      "Requirement already satisfied: zipp>=3.20 in /opt/homebrew/Caskroom/miniforge/base/envs/genai_2025mar/lib/python3.9/site-packages (from importlib-metadata>=3.6->Flask) (3.21.0)\n",
      "Requirement already satisfied: MarkupSafe>=2.0 in /opt/homebrew/Caskroom/miniforge/base/envs/genai_2025mar/lib/python3.9/site-packages (from Jinja2>=3.1.2->Flask) (3.0.2)\n",
      "Requirement already satisfied: typing-extensions>=4.1.0 in /opt/homebrew/Caskroom/miniforge/base/envs/genai_2025mar/lib/python3.9/site-packages (from multidict<7.0,>=4.5->aiohttp>=3.8.4->twilio) (4.12.2)\n",
      "Downloading ngrok-1.4.0-cp37-abi3-macosx_11_0_arm64.whl (2.6 MB)\n",
      "\u001b[2K   \u001b[90m━━━━━━━━━━━━━━━━━━━━━━━━━━━━━━━━━━━━━━━━\u001b[0m \u001b[32m2.6/2.6 MB\u001b[0m \u001b[31m13.5 MB/s\u001b[0m eta \u001b[36m0:00:00\u001b[0ma \u001b[36m0:00:01\u001b[0m\n",
      "\u001b[?25hInstalling collected packages: ngrok\n",
      "Successfully installed ngrok-1.4.0\n"
     ]
    }
   ],
   "source": [
    "!pip install Flask twilio requests python-dotenv ngrok\n"
   ]
  },
  {
   "cell_type": "code",
   "execution_count": null,
   "metadata": {},
   "outputs": [
    {
     "name": "stdout",
     "output_type": "stream",
     "text": [
      " * Serving Flask app '__main__'\n",
      " * Debug mode: on\n"
     ]
    },
    {
     "name": "stderr",
     "output_type": "stream",
     "text": [
      "\u001b[31m\u001b[1mWARNING: This is a development server. Do not use it in a production deployment. Use a production WSGI server instead.\u001b[0m\n",
      " * Running on http://127.0.0.1:8000\n",
      "\u001b[33mPress CTRL+C to quit\u001b[0m\n",
      " * Restarting with stat\n",
      "Traceback (most recent call last):\n",
      "  File \"/opt/homebrew/Caskroom/miniforge/base/envs/genai_2025mar/lib/python3.9/site-packages/ipykernel_launcher.py\", line 18, in <module>\n",
      "    app.launch_new_instance()\n",
      "  File \"/opt/homebrew/Caskroom/miniforge/base/envs/genai_2025mar/lib/python3.9/site-packages/traitlets/config/application.py\", line 1074, in launch_instance\n",
      "    app.initialize(argv)\n",
      "  File \"/opt/homebrew/Caskroom/miniforge/base/envs/genai_2025mar/lib/python3.9/site-packages/traitlets/config/application.py\", line 118, in inner\n",
      "    return method(app, *args, **kwargs)\n",
      "  File \"/opt/homebrew/Caskroom/miniforge/base/envs/genai_2025mar/lib/python3.9/site-packages/ipykernel/kernelapp.py\", line 692, in initialize\n",
      "    self.init_sockets()\n",
      "  File \"/opt/homebrew/Caskroom/miniforge/base/envs/genai_2025mar/lib/python3.9/site-packages/ipykernel/kernelapp.py\", line 331, in init_sockets\n",
      "    self.shell_port = self._bind_socket(self.shell_socket, self.shell_port)\n",
      "  File \"/opt/homebrew/Caskroom/miniforge/base/envs/genai_2025mar/lib/python3.9/site-packages/ipykernel/kernelapp.py\", line 253, in _bind_socket\n",
      "    return self._try_bind_socket(s, port)\n",
      "  File \"/opt/homebrew/Caskroom/miniforge/base/envs/genai_2025mar/lib/python3.9/site-packages/ipykernel/kernelapp.py\", line 229, in _try_bind_socket\n",
      "    s.bind(\"tcp://%s:%i\" % (self.ip, port))\n",
      "  File \"/opt/homebrew/Caskroom/miniforge/base/envs/genai_2025mar/lib/python3.9/site-packages/zmq/sugar/socket.py\", line 320, in bind\n",
      "    super().bind(addr)\n",
      "  File \"_zmq.py\", line 917, in zmq.backend.cython._zmq.Socket.bind\n",
      "  File \"_zmq.py\", line 179, in zmq.backend.cython._zmq._check_rc\n",
      "zmq.error.ZMQError: Address already in use (addr='tcp://127.0.0.1:9055')\n"
     ]
    },
    {
     "ename": "SystemExit",
     "evalue": "1",
     "output_type": "error",
     "traceback": [
      "An exception has occurred, use %tb to see the full traceback.\n",
      "\u001b[0;31mSystemExit\u001b[0m\u001b[0;31m:\u001b[0m 1\n"
     ]
    }
   ],
   "source": []
  },
  {
   "cell_type": "code",
   "execution_count": null,
   "metadata": {},
   "outputs": [
    {
     "name": "stdout",
     "output_type": "stream",
     "text": [
      "python: can't open file '/Users/rohanroy/Coding/VirtualSalesman/ToolTest/app.py': [Errno 2] No such file or directory\n"
     ]
    },
    {
     "name": "stderr",
     "output_type": "stream",
     "text": [
      "python(25143) MallocStackLogging: can't turn off malloc stack logging because it was not enabled.\n"
     ]
    }
   ],
   "source": []
  },
  {
   "cell_type": "code",
   "execution_count": null,
   "metadata": {},
   "outputs": [],
   "source": []
  }
 ],
 "metadata": {
  "kernelspec": {
   "display_name": "genai_2025mar",
   "language": "python",
   "name": "python3"
  },
  "language_info": {
   "codemirror_mode": {
    "name": "ipython",
    "version": 3
   },
   "file_extension": ".py",
   "mimetype": "text/x-python",
   "name": "python",
   "nbconvert_exporter": "python",
   "pygments_lexer": "ipython3",
   "version": "3.9.19"
  }
 },
 "nbformat": 4,
 "nbformat_minor": 2
}
